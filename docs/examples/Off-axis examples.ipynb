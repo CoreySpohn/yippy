{
 "cells": [
  {
   "cell_type": "markdown",
   "id": "6fc12b64-a2ff-498d-9eef-676e98fe1f51",
   "metadata": {},
   "source": [
    "# This "
   ]
  },
  {
   "cell_type": "code",
   "execution_count": 1,
   "id": "6b4c1ae2-0056-464d-b8b7-8e96acef19fa",
   "metadata": {},
   "outputs": [
    {
     "name": "stderr",
     "output_type": "stream",
     "text": [
      "[yippy] INFO 2024-04-25 16:24:04,325 [coronagraph.py:__init__:67] Creating LUVOIR-B-VC6_timeseries coronagraph\n",
      "[yippy] WARNING 2024-04-25 16:24:04,327 [header.py:extract_unit:112] Using default unit for D: m. Could not extract unit from comment: \"circumscribed diameter D of the primary mirror\"\n",
      "[yippy] INFO 2024-04-25 16:24:04,383 [offax_base.py:__init__:114] LUVOIR-B-VC6_timeseries is radially symmetric\n",
      "[yippy] INFO 2024-04-25 16:24:04,737 [coronagraph.py:__init__:67] Creating ApodSol_APLC coronagraph\n",
      "[yippy] INFO 2024-04-25 16:24:04,755 [offax_base.py:__init__:117] ApodSol_APLC is quarterly symmetric\n"
     ]
    }
   ],
   "source": [
    "from yippy import Coronagraph\n",
    "\n",
    "vvc = Coronagraph(\"../../input/LUVOIR-B-VC6_timeseries\")\n",
    "aplc = Coronagraph(\"../../input/ApodSol_APLC\")"
   ]
  },
  {
   "cell_type": "code",
   "execution_count": null,
   "id": "b36253e3-5bab-4d83-bbb5-b3d74ce272b2",
   "metadata": {},
   "outputs": [],
   "source": []
  }
 ],
 "metadata": {
  "kernelspec": {
   "display_name": "yippy",
   "language": "python",
   "name": ".venv"
  },
  "language_info": {
   "codemirror_mode": {
    "name": "ipython",
    "version": 3
   },
   "file_extension": ".py",
   "mimetype": "text/x-python",
   "name": "python",
   "nbconvert_exporter": "python",
   "pygments_lexer": "ipython3",
   "version": "3.11.0"
  }
 },
 "nbformat": 4,
 "nbformat_minor": 5
}
