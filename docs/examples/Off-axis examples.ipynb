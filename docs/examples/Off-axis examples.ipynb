{
 "cells": [
  {
   "cell_type": "markdown",
   "id": "6fc12b64-a2ff-498d-9eef-676e98fe1f51",
   "metadata": {},
   "source": [
    "# Off-axis PSFs\n",
    "A yield input package fundamentally encodes the off axis PSFs in $\\lambda / D$ units."
   ]
  },
  {
   "cell_type": "code",
   "execution_count": 13,
   "id": "6b4c1ae2-0056-464d-b8b7-8e96acef19fa",
   "metadata": {},
   "outputs": [
    {
     "name": "stdout",
     "output_type": "stream",
     "text": [
      "offax_psf_offset_list.fits\n",
      "offax_psf.fits\n"
     ]
    }
   ],
   "source": [
    "from pathlib import Path\n",
    "\n",
    "yip_path = Path(\"../../input/LUVOIR-B-VC6_timeseries\")\n",
    "for item in vvc_path.iterdir():\n",
    "    if \"offax\" in item.name:\n",
    "        print(item.name)"
   ]
  },
  {
   "cell_type": "code",
   "execution_count": null,
   "id": "b36253e3-5bab-4d83-bbb5-b3d74ce272b2",
   "metadata": {},
   "outputs": [],
   "source": []
  }
 ],
 "metadata": {
  "kernelspec": {
   "display_name": "yippy",
   "language": "python",
   "name": "myenv"
  },
  "language_info": {
   "codemirror_mode": {
    "name": "ipython",
    "version": 3
   },
   "file_extension": ".py",
   "mimetype": "text/x-python",
   "name": "python",
   "nbconvert_exporter": "python",
   "pygments_lexer": "ipython3",
   "version": "3.10.13"
  }
 },
 "nbformat": 4,
 "nbformat_minor": 5
}
